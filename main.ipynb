{
 "cells": [
  {
   "cell_type": "markdown",
   "source": [
    "# 导入必要模块"
   ],
   "metadata": {
    "collapsed": false
   }
  },
  {
   "cell_type": "code",
   "execution_count": null,
   "metadata": {
    "collapsed": true
   },
   "outputs": [],
   "source": [
    "import os\n",
    "import torch\n",
    "import time\n",
    "import numpy as np\n",
    "import matplotlib\n",
    "import matplotlib.pyplot as plt\n",
    "import data_processing as dp\n",
    "from model import PhysicsInformedNN\n",
    "\n",
    "np.random.seed(1234)\n",
    "torch.manual_seed(1234)\n",
    "torch.autograd.set_detect_anomaly(True)\n",
    "plt.rc('font', family='Times New Roman')\n",
    "plt.rc('text', usetex=True)\n",
    "plt.rc('grid', color='k', alpha=0.2)\n",
    "current_path = os.getcwd()"
   ]
  },
  {
   "cell_type": "markdown",
   "source": [
    "# 设置参数，加载数据"
   ],
   "metadata": {
    "collapsed": false
   }
  },
  {
   "cell_type": "code",
   "execution_count": null,
   "outputs": [],
   "source": [
    "# Configuration\n",
    "epochs = 30000\n",
    "layers = [2, 50, 50, 50, 50, 1]\n",
    "connections = [0, 1, 0, 1, 0, 1]\n",
    "USE_pth = False\n",
    "# Check CUDA availability (for GPU acceleration)\n",
    "device = torch.device(\"cuda\" if torch.cuda.is_available() else \"cpu\")\n",
    "print(\"========  Using device  ========\")\n",
    "print(f\"============  {device}  ============\")\n",
    "\n",
    "# Load Data\n",
    "option = 'npz'\n",
    "filename = 'variables.npz'\n",
    "# filename = 'test16-1.mat'\n",
    "# filename = 'dvSave-2023_03_26_02_21_16.npy'\n",
    "Timestamp, xEvent, yEvent, polarities = dp.load_data('npz', current_path, filename)\n",
    "# Data Cleansing\n",
    "fig = plt.figure()\n",
    "dp.plot_data(\n",
    "    fig.add_subplot(131, projection='3d'),\n",
    "    xEvent, Timestamp, yEvent,\n",
    "    title='Original Data', color=yEvent\n",
    ")\n",
    "(xEvent, Timestamp, yEvent, polarities) = dp.HotPixel_cleansing(xEvent, Timestamp, yEvent, polarities)\n",
    "dp.plot_data(\n",
    "    fig.add_subplot(132, projection='3d'),\n",
    "    xEvent, Timestamp, yEvent,\n",
    "    title='After HotPixel Cleansing', color=yEvent\n",
    ")\n",
    "(xEvent, Timestamp, yEvent) = dp.data_rotate(xEvent, Timestamp, yEvent, option='TLS')\n",
    "dp.plot_data(\n",
    "    fig.add_subplot(133, projection='3d'),\n",
    "    xEvent, Timestamp, yEvent,\n",
    "    title='After Data Rotation', color=yEvent\n",
    ")\n",
    "\n",
    "# Convert to torch.Tensor\n",
    "xEvent = torch.tensor(\n",
    "    xEvent, dtype=torch.float32,\n",
    "    device=device, requires_grad=True\n",
    ").unsqueeze(1)\n",
    "Timestamp = torch.tensor(\n",
    "    Timestamp, dtype=torch.float32,\n",
    "    device=device, requires_grad=True\n",
    ").unsqueeze(1)\n",
    "yEvent = torch.tensor(\n",
    "    yEvent, dtype=torch.float32,\n",
    "    device=device, requires_grad=True\n",
    ").unsqueeze(1)\n",
    "print('====== Data Loading Done! ======')"
   ],
   "metadata": {
    "collapsed": false
   }
  },
  {
   "cell_type": "markdown",
   "source": [
    "# 初始化模型"
   ],
   "metadata": {
    "collapsed": false
   }
  },
  {
   "cell_type": "code",
   "execution_count": null,
   "outputs": [],
   "source": [
    "print('===== Model Initialization =====')\n",
    "pinn = PhysicsInformedNN(\n",
    "    layers, connections, device,\n",
    "    xEvent, Timestamp, yEvent,\n",
    "    epochs\n",
    ")\n",
    "print(pinn.dnn)"
   ],
   "metadata": {
    "collapsed": false
   }
  },
  {
   "cell_type": "markdown",
   "source": [
    "# 是否加载已有权重"
   ],
   "metadata": {
    "collapsed": false
   }
  },
  {
   "cell_type": "code",
   "execution_count": null,
   "outputs": [],
   "source": [
    "USE_pth = False\n",
    "os.makedirs(os.path.join(current_path, 'data', 'pth'), exist_ok=True)\n",
    "if USE_pth:\n",
    "    try:\n",
    "        loss_list = [\n",
    "            i.split('_')\n",
    "            for i in os.path.listdir(\n",
    "                os.path.join(\n",
    "                    current_path,\n",
    "                    'data', 'pth'\n",
    "                )\n",
    "            )\n",
    "        ]\n",
    "        state_dic = torch.load(\n",
    "            os.path.join(\n",
    "                current_path,\n",
    "                'data', 'pth',\n",
    "                ''.join(min(loss_list, key=lambda x: float(x[0])))\n",
    "            )\n",
    "        )\n",
    "        pinn.load(state_dic)\n",
    "        print('Model weights loaded!')\n",
    "    except Exception as e:\n",
    "        print('Failed to load model weights!\\nError Info:', e)\n",
    "print('========= Model Training =======')"
   ],
   "metadata": {
    "collapsed": false
   }
  },
  {
   "cell_type": "markdown",
   "source": [
    "# 训练模型"
   ],
   "metadata": {
    "collapsed": false
   }
  },
  {
   "cell_type": "code",
   "execution_count": null,
   "outputs": [],
   "source": [
    "# Training the Model\n",
    "start_time = time.time()\n",
    "pinn.train()\n",
    "pinn.save(os.path.join(current_path, 'data', 'pth'), 'state')\n",
    "end_time = time.time()\n",
    "print('==============================================')\n",
    "print('============= Model Training Done! ===========')\n",
    "print(\"======== Training time: {:.2f} seconds ======\".format(end_time - start_time))\n",
    "print('=== Average time per epoch: {:.4f} seconds ==='.format((end_time - start_time) / epochs))\n",
    "print('==============================================')"
   ],
   "metadata": {
    "collapsed": false
   }
  },
  {
   "cell_type": "markdown",
   "source": [
    "# 呈现结果"
   ],
   "metadata": {
    "collapsed": false
   }
  },
  {
   "cell_type": "code",
   "execution_count": null,
   "outputs": [],
   "source": [
    "dp.draw_results(pinn)"
   ],
   "metadata": {
    "collapsed": false
   }
  }
 ],
 "metadata": {
  "kernelspec": {
   "display_name": "Python 3",
   "language": "python",
   "name": "python3"
  },
  "language_info": {
   "codemirror_mode": {
    "name": "ipython",
    "version": 2
   },
   "file_extension": ".py",
   "mimetype": "text/x-python",
   "name": "python",
   "nbconvert_exporter": "python",
   "pygments_lexer": "ipython2",
   "version": "2.7.6"
  }
 },
 "nbformat": 4,
 "nbformat_minor": 0
}
