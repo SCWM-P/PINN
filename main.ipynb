{
 "cells": [
  {
   "cell_type": "markdown",
   "source": [
    "# 导入必要模块"
   ],
   "metadata": {
    "collapsed": false
   }
  },
  {
   "cell_type": "code",
   "execution_count": null,
   "metadata": {
    "collapsed": true
   },
   "outputs": [],
   "source": [
    "import os\n",
    "import torch\n",
    "import time\n",
    "import numpy as np\n",
    "import matplotlib\n",
    "import matplotlib.pyplot as plt\n",
    "import data_processing as dp\n",
    "from model import PhysicsInformedNN\n",
    "\n",
    "np.random.seed(1234)\n",
    "torch.manual_seed(1234)\n",
    "matplotlib.use('TkAgg')\n",
    "torch.autograd.set_detect_anomaly(True)\n",
    "plt.rc('font', family='Times New Roman')\n",
    "plt.rc('text', usetex=True)\n",
    "plt.rc('grid', color='k', alpha=0.2)\n",
    "current_path = os.getcwd()"
   ]
  },
  {
   "cell_type": "markdown",
   "source": [
    "# 设置参数，加载数据"
   ],
   "metadata": {
    "collapsed": false
   }
  },
  {
   "cell_type": "code",
   "execution_count": null,
   "outputs": [],
   "source": [
    "# Configuration\n",
    "epochs = 300\n",
    "layers = [2, 50, 50, 50, 50, 1]\n",
    "connections = [0, 1, 0, 1, 0, 1]\n",
    "# Check CUDA availability (for GPU acceleration)\n",
    "device = torch.device(\"cuda\" if torch.cuda.is_available() else \"cpu\")\n",
    "print(\"========  Using device  ========\")\n",
    "print(f\"============  {device}  ============\")\n",
    "\n",
    "# Load Data\n",
    "option = 'npz'\n",
    "filename = 'variables.npz'\n",
    "# filename = 'test16-1.mat'\n",
    "# filename = 'dvSave-2023_03_26_02_21_16.npy'\n",
    "Timestamp, xEvent, yEvent, polarities = dp.load_data('npz', current_path, filename)\n",
    "# Data Cleansing\n",
    "fig = plt.figure()\n",
    "dp.plot_data(\n",
    "    fig.add_subplot(131, projection='3d'),\n",
    "    xEvent, Timestamp, yEvent,\n",
    "    title='Original Data', color=yEvent\n",
    ")\n",
    "(xEvent, Timestamp, yEvent, polarities) = dp.HotPixel_cleansing(xEvent, Timestamp, yEvent, polarities)\n",
    "dp.plot_data(\n",
    "    fig.add_subplot(132, projection='3d'),\n",
    "    xEvent, Timestamp, yEvent,\n",
    "    title='After HotPixel Cleansing', color=yEvent\n",
    ")\n",
    "(xEvent, Timestamp, yEvent) = dp.data_rotate(xEvent, Timestamp, yEvent, option='TLS')\n",
    "dp.plot_data(\n",
    "    fig.add_subplot(133, projection='3d'),\n",
    "    xEvent, Timestamp, yEvent,\n",
    "    title='After Data Rotation', color=yEvent\n",
    ")\n",
    "\n",
    "# Convert to torch.Tensor\n",
    "xEvent = torch.tensor(\n",
    "    xEvent,\n",
    "    dtype=torch.float32,\n",
    "    device=device,\n",
    "    requires_grad=True\n",
    ").unsqueeze(1)\n",
    "Timestamp = torch.tensor(\n",
    "    Timestamp,\n",
    "    dtype=torch.float32,\n",
    "    device=device,\n",
    "    requires_grad=True\n",
    ").unsqueeze(1)\n",
    "yEvent = torch.tensor(\n",
    "    yEvent,\n",
    "    dtype=torch.float32,\n",
    "    device=device,\n",
    "    requires_grad=True\n",
    ").unsqueeze(1)\n",
    "print('====== Data Loading Done! ======')"
   ],
   "metadata": {
    "collapsed": false
   }
  },
  {
   "cell_type": "markdown",
   "source": [
    "# 初始化模型"
   ],
   "metadata": {
    "collapsed": false
   }
  },
  {
   "cell_type": "code",
   "execution_count": null,
   "outputs": [],
   "source": [
    "USE_pth = False\n",
    "print('===== Model Initialization =====')\n",
    "pinn = PhysicsInformedNN(\n",
    "    layers, connections, device,\n",
    "    xEvent, Timestamp, yEvent,\n",
    "    epochs\n",
    ")\n",
    "if USE_pth: pinn.load(torch.load('model.pth'))\n",
    "print(pinn.dnn)"
   ],
   "metadata": {
    "collapsed": false
   }
  }
 ],
 "metadata": {
  "kernelspec": {
   "display_name": "Python 3",
   "language": "python",
   "name": "python3"
  },
  "language_info": {
   "codemirror_mode": {
    "name": "ipython",
    "version": 2
   },
   "file_extension": ".py",
   "mimetype": "text/x-python",
   "name": "python",
   "nbconvert_exporter": "python",
   "pygments_lexer": "ipython2",
   "version": "2.7.6"
  }
 },
 "nbformat": 4,
 "nbformat_minor": 0
}
