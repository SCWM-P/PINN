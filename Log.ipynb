{
 "cells": [
  {
   "cell_type": "markdown",
   "source": [
    "# 2024.2.28\n",
    "\n",
    "## PINN-V.py released\n",
    "功能更新\n",
    "\n",
    "1. 完成了逆标准化的全过程修复\n",
    "2. 修复了PINN-V.py中关于`PIloss`的计算错误\n",
    "3. 重写了`rotate`函数，弃用了旋转矩阵的方式，直接对两坐标做计算并return，加快了运算速度\n",
    "4. 添加了标准化函数`nomalize()`\n",
    "\n",
    "优化更新\n",
    "\n",
    "1. 添加了`Average time per epoch`\n",
    "2. 添加了若干函数的注释与说明"
   ],
   "metadata": {
    "collapsed": false
   }
  },
  {
   "cell_type": "markdown",
   "source": [
    "# 2024.2.29\n",
    "\n",
    "## PINN-V.py 修改\n",
    "\n",
    "实验功能\n",
    "1. 为了避免物理方程被拟合成平面，对a参数对逐渐减弱的扰动\n",
    "2. 添加新的学习参数振幅`Y`，现在的物理方程公式为:\n",
    "$$\n",
    "y = Y \\cdot \\sin (ax+b) \\cdot \\sin (\\omega \\sqrt{1 - \\zeta ^2} t) \\cdot e^{-\\omega \\zeta t}\n",
    "$$\n",
    "\n",
    "经过振幅增强发现\n",
    "\n",
    "<img src=\"./Photo/test_Y.png\" style=\"zoom:50%\" />\n",
    "\n",
    "如图模型的优化过程，可以看到模型正确的选择了在开始振幅很大的时候选择通过降低振幅来减小Loss（注意到波形的频率很小，使得波数很少，就只有一个波节），并一直通过这种方式来降低Loss，但是同时也是因为波数少，使得在已经达到和原始数据差不多的振幅的时候，模型选择了继续扁平化来降低Loss，而不是提高波数，因为在模型看来从一个波节到原始数据的5-6个波节变化的过程中（目前认为是a增大）会使得Loss暂时地增大，所以模型不会选择增大波数而是选择继续降低振幅\n",
    "\n",
    "- 但是仍然存在问题在于Y似乎没有被更新，有待进一步研究"
   ],
   "metadata": {
    "collapsed": false
   }
  },
  {
   "cell_type": "markdown",
   "source": [
    "# 2024.3.2\n",
    "\n",
    "## PINN-VI.py released\n",
    "\n",
    "功能更新：\n",
    "1. 整个文件重写，主要修改了物理方程为偏微分方程约束：\n",
    "$$\n",
    "EI \\cdot \\frac{\\partial ^4 y}{\\partial x ^4} - T \\cdot \\frac{\\partial ^2 y}{\\partial x ^2} + M \\cdot \\frac{\\partial ^2 y}{\\partial t^2} + c \\cdot \\frac{\\partial y}{\\partial t} = 0\n",
    "$$\n",
    "2. 重写了旋转函数，支持根据旋转轴进行旋转，通过关键字参数`axis`实现\n",
    "3. 添加了`normalize`函数与`denormalize`函数，用于对数据进行标准化与反标准化\n",
    "4. 删除了`net_u`函数，将其与`predict`函数功能合并\n",
    "5. 增加了更加丰富的过程输出\n",
    "    - 提供对于`准确性 Accuracy`的过程化输出\n",
    "    - 分别对在训练集和验证集上的`loss_physical` `loss_nn` `Accuracy`进行输出\n",
    "    - 提供每轮训练的耗时输出\n",
    "6. 对过程出图的逻辑进行优化，使得不会一次生成太多图片\n",
    "7. 为`Adam`优化器添加了L2正则化约束，添加`eps`防止梯度爆炸\n",
    "\n",
    "优化更新：\n",
    "1. 优化了`rotate`函数，使之更加快速\n",
    "2. 优化了记录历史数据的方式，从动态增长修改为初始化后赋值，使之更加快速\n",
    "3. 优化了散点图的样式，降低透明度\n",
    "4. 优化了格式化输出的对齐\n",
    "\n",
    "修复：\n",
    "1. 修复了内存占用太大的问题\n",
    "2. 修复了在绘图和过程评估中梯度丢失报错的问题"
   ],
   "metadata": {
    "collapsed": false
   }
  }
 ],
 "metadata": {
  "kernelspec": {
   "display_name": "Python 3",
   "language": "python",
   "name": "python3"
  },
  "language_info": {
   "codemirror_mode": {
    "name": "ipython",
    "version": 2
   },
   "file_extension": ".py",
   "mimetype": "text/x-python",
   "name": "python",
   "nbconvert_exporter": "python",
   "pygments_lexer": "ipython2",
   "version": "2.7.6"
  }
 },
 "nbformat": 4,
 "nbformat_minor": 0
}
